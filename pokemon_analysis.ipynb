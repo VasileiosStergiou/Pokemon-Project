{
 "cells": [
  {
   "cell_type": "code",
   "execution_count": 1,
   "id": "45616b14-c8c4-4706-9e9a-6cdbbc68337b",
   "metadata": {},
   "outputs": [
    {
     "ename": "ModuleNotFoundError",
     "evalue": "No module named 'pandas'",
     "output_type": "error",
     "traceback": [
      "\u001b[1;31m---------------------------------------------------------------------------\u001b[0m",
      "\u001b[1;31mModuleNotFoundError\u001b[0m                       Traceback (most recent call last)",
      "Cell \u001b[1;32mIn[1], line 1\u001b[0m\n\u001b[1;32m----> 1\u001b[0m \u001b[38;5;28;01mimport\u001b[39;00m \u001b[38;5;21;01mpandas\u001b[39;00m \u001b[38;5;28;01mas\u001b[39;00m \u001b[38;5;21;01mpd\u001b[39;00m\n",
      "\u001b[1;31mModuleNotFoundError\u001b[0m: No module named 'pandas'"
     ]
    }
   ],
   "source": [
    "import pandas as pd"
   ]
  },
  {
   "cell_type": "code",
   "execution_count": 2,
   "id": "14fcc53f-a98c-477d-bfde-69bbfbda9e69",
   "metadata": {},
   "outputs": [],
   "source": [
    "def split_abilities(abilities):\n",
    "    parts = [part.strip('[]') for part in abilities.split(',')]\n",
    "    base_ability = parts[0] if len(parts) > 0 else ''\n",
    "    hidden_ability = parts[1] if len(parts) > 1 else ''\n",
    "    return pd.Series([base_ability, hidden_ability])"
   ]
  },
  {
   "cell_type": "code",
   "execution_count": 3,
   "id": "27c9b5a5-8625-4b8d-bb16-a96a6789b2c5",
   "metadata": {},
   "outputs": [],
   "source": [
    "pokemon_data = pd.read_csv(r'C:\\Users\\basis\\OneDrive\\Υπολογιστής\\pokemon project\\pokemon.csv')"
   ]
  },
  {
   "cell_type": "code",
   "execution_count": 4,
   "id": "44abc1eb-563a-48bd-a18a-e7da42d1843d",
   "metadata": {},
   "outputs": [],
   "source": [
    "against_columns = [col for col in pokemon_data if 'against' in col]\n",
    "remaining_columns = [col for col in pokemon_data if 'against' not in col]"
   ]
  },
  {
   "cell_type": "code",
   "execution_count": 5,
   "id": "3acb331f-9035-473c-9200-d1542f5a666d",
   "metadata": {
    "tags": []
   },
   "outputs": [],
   "source": [
    "df_cleaned = pokemon_data.drop(columns=against_columns)"
   ]
  },
  {
   "cell_type": "code",
   "execution_count": 6,
   "id": "439be76a-2b19-4974-9e05-f0bf710e68b3",
   "metadata": {},
   "outputs": [],
   "source": [
    "df_cleaned[['base ability', 'hidden ability']] = df_cleaned['abilities'].apply(split_abilities)\n",
    "# Optionally, drop the original 'abilities' column\n",
    "df_cleaned = df_cleaned.drop(columns=['abilities'])"
   ]
  },
  {
   "cell_type": "code",
   "execution_count": 7,
   "id": "04674e8c-90dc-4c19-8ba1-a4d815082acd",
   "metadata": {
    "tags": []
   },
   "outputs": [],
   "source": [
    "basic_pokemon_data = df_cleaned[['pokedex_number','name','generation','is_legendary','base ability','hidden ability','type1','type2','attack','sp_attack',\n",
    "            'hp','defense','sp_defense','speed','height_m','weight_kg']]"
   ]
  },
  {
   "cell_type": "code",
   "execution_count": null,
   "id": "0ec55129-f6f5-42bb-8ff8-3892f5114095",
   "metadata": {},
   "outputs": [],
   "source": [
    "basic_pokemon_data"
   ]
  },
  {
   "cell_type": "code",
   "execution_count": 9,
   "id": "7f95b948-1fdc-4935-a50d-1b71e48fa5c6",
   "metadata": {},
   "outputs": [],
   "source": [
    "matchups = pokemon_data.drop(columns=remaining_columns)"
   ]
  },
  {
   "cell_type": "code",
   "execution_count": null,
   "id": "ae80292c-2322-4bf8-aff1-8414897fb6ed",
   "metadata": {
    "tags": []
   },
   "outputs": [],
   "source": [
    "matchups"
   ]
  },
  {
   "cell_type": "code",
   "execution_count": 11,
   "id": "fb6b8840-bd77-464c-946b-7a52aa1b93d5",
   "metadata": {
    "tags": []
   },
   "outputs": [],
   "source": [
    "pokemon_moves = pd.read_csv(r'C:\\Users\\basis\\OneDrive\\Υπολογιστής\\pokemon project\\move-data.csv')"
   ]
  },
  {
   "cell_type": "code",
   "execution_count": null,
   "id": "4bf9a2f7-4915-4305-a5d9-9c509acd6ea7",
   "metadata": {
    "tags": []
   },
   "outputs": [],
   "source": [
    "pokemon_moves"
   ]
  },
  {
   "cell_type": "code",
   "execution_count": null,
   "id": "b3706d09-f07f-4878-98b7-c6e43724a7f0",
   "metadata": {},
   "outputs": [],
   "source": []
  }
 ],
 "metadata": {
  "kernelspec": {
   "display_name": "Python 3 (ipykernel)",
   "language": "python",
   "name": "python3"
  },
  "language_info": {
   "codemirror_mode": {
    "name": "ipython",
    "version": 3
   },
   "file_extension": ".py",
   "mimetype": "text/x-python",
   "name": "python",
   "nbconvert_exporter": "python",
   "pygments_lexer": "ipython3",
   "version": "3.11.9"
  }
 },
 "nbformat": 4,
 "nbformat_minor": 5
}
